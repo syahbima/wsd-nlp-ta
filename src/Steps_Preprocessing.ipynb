{
  "nbformat": 4,
  "nbformat_minor": 0,
  "metadata": {
    "colab": {
      "name": "Steps Preprocessing",
      "version": "0.3.2",
      "provenance": [],
      "collapsed_sections": [],
      "toc_visible": true
    },
    "kernelspec": {
      "name": "python3",
      "display_name": "Python 3"
    }
  },
  "cells": [
    {
      "cell_type": "markdown",
      "metadata": {
        "id": "EyURDJuFnEpf",
        "colab_type": "text"
      },
      "source": [
        "# Read file"
      ]
    },
    {
      "cell_type": "code",
      "metadata": {
        "id": "YKBpvDvtx8XF",
        "colab_type": "code",
        "colab": {}
      },
      "source": [
        "file_path = \"../data/training_set/double_annotator_agree.csv\""
      ],
      "execution_count": 0,
      "outputs": []
    },
    {
      "cell_type": "code",
      "metadata": {
        "id": "UC-89UhnyCvg",
        "colab_type": "code",
        "outputId": "9a8ae1db-7c6c-490b-c8c4-f4bcffa57e6d",
        "colab": {
          "base_uri": "https://localhost:8080/",
          "height": 203
        }
      },
      "source": [
        "import pandas as pd\n",
        "\n",
        "file = pd.read_csv(file_path)\n",
        "\n",
        "file.head()"
      ],
      "execution_count": 0,
      "outputs": [
        {
          "output_type": "execute_result",
          "data": {
            "text/html": [
              "<div>\n",
              "<style scoped>\n",
              "    .dataframe tbody tr th:only-of-type {\n",
              "        vertical-align: middle;\n",
              "    }\n",
              "\n",
              "    .dataframe tbody tr th {\n",
              "        vertical-align: top;\n",
              "    }\n",
              "\n",
              "    .dataframe thead th {\n",
              "        text-align: right;\n",
              "    }\n",
              "</style>\n",
              "<table border=\"1\" class=\"dataframe\">\n",
              "  <thead>\n",
              "    <tr style=\"text-align: right;\">\n",
              "      <th></th>\n",
              "      <th>kalimat_id</th>\n",
              "      <th>kata</th>\n",
              "      <th>sense</th>\n",
              "      <th>kalimat</th>\n",
              "    </tr>\n",
              "  </thead>\n",
              "  <tbody>\n",
              "    <tr>\n",
              "      <th>0</th>\n",
              "      <td>1000527</td>\n",
              "      <td>mengandung</td>\n",
              "      <td>2301</td>\n",
              "      <td>Secara anatomi, hidung adalah penonjolan pada ...</td>\n",
              "    </tr>\n",
              "    <tr>\n",
              "      <th>1</th>\n",
              "      <td>1000651</td>\n",
              "      <td>mengandung</td>\n",
              "      <td>2301</td>\n",
              "      <td>Mandi air yang mengandung belerang, untuk peng...</td>\n",
              "    </tr>\n",
              "    <tr>\n",
              "      <th>2</th>\n",
              "      <td>1000770</td>\n",
              "      <td>mengandung</td>\n",
              "      <td>2301</td>\n",
              "      <td>Dengan terikatnya klathrin, membrane sel membe...</td>\n",
              "    </tr>\n",
              "    <tr>\n",
              "      <th>3</th>\n",
              "      <td>1001199</td>\n",
              "      <td>mengejar</td>\n",
              "      <td>2802</td>\n",
              "      <td>Dalam menapaki karier di gedung parlemen, Toto...</td>\n",
              "    </tr>\n",
              "    <tr>\n",
              "      <th>4</th>\n",
              "      <td>1001330</td>\n",
              "      <td>mengejar</td>\n",
              "      <td>2802</td>\n",
              "      <td>Ini juga memberi EMC pengalaman dan wawasan ma...</td>\n",
              "    </tr>\n",
              "  </tbody>\n",
              "</table>\n",
              "</div>"
            ],
            "text/plain": [
              "   kalimat_id  ...                                            kalimat\n",
              "0     1000527  ...  Secara anatomi, hidung adalah penonjolan pada ...\n",
              "1     1000651  ...  Mandi air yang mengandung belerang, untuk peng...\n",
              "2     1000770  ...  Dengan terikatnya klathrin, membrane sel membe...\n",
              "3     1001199  ...  Dalam menapaki karier di gedung parlemen, Toto...\n",
              "4     1001330  ...  Ini juga memberi EMC pengalaman dan wawasan ma...\n",
              "\n",
              "[5 rows x 4 columns]"
            ]
          },
          "metadata": {
            "tags": []
          },
          "execution_count": 2
        }
      ]
    },
    {
      "cell_type": "markdown",
      "metadata": {
        "id": "c9JK4m0ynLkB",
        "colab_type": "text"
      },
      "source": [
        "# Install Sastrawi Library"
      ]
    },
    {
      "cell_type": "code",
      "metadata": {
        "id": "RNmmQMZ6bRc5",
        "colab_type": "code",
        "outputId": "d4594e6f-dd05-4653-8005-3d3b8dacadbb",
        "colab": {
          "base_uri": "https://localhost:8080/",
          "height": 35
        }
      },
      "source": [
        "!pip install Sastrawi"
      ],
      "execution_count": 0,
      "outputs": [
        {
          "output_type": "stream",
          "text": [
            "Requirement already satisfied: Sastrawi in /usr/local/lib/python3.6/dist-packages (1.0.1)\n"
          ],
          "name": "stdout"
        }
      ]
    },
    {
      "cell_type": "markdown",
      "metadata": {
        "id": "rxBOXt_rnQAc",
        "colab_type": "text"
      },
      "source": [
        "# Stemming and Lowercase"
      ]
    },
    {
      "cell_type": "code",
      "metadata": {
        "id": "hNNEG2PcxAzN",
        "colab_type": "code",
        "outputId": "2836e0e2-a569-4d2d-a4e2-8642c2e1d355",
        "colab": {
          "base_uri": "https://localhost:8080/",
          "height": 203
        }
      },
      "source": [
        "from Sastrawi.Stemmer.StemmerFactory import StemmerFactory\n",
        "\n",
        "factory = StemmerFactory()\n",
        "stemmer = factory.create_stemmer()\n",
        "\n",
        "file[\"kalimat\"] = file[\"kalimat\"].apply(\n",
        "    lambda kalimat: stemmer.stem(kalimat)\n",
        ")\n",
        "\n",
        "file.head()"
      ],
      "execution_count": 0,
      "outputs": [
        {
          "output_type": "execute_result",
          "data": {
            "text/html": [
              "<div>\n",
              "<style scoped>\n",
              "    .dataframe tbody tr th:only-of-type {\n",
              "        vertical-align: middle;\n",
              "    }\n",
              "\n",
              "    .dataframe tbody tr th {\n",
              "        vertical-align: top;\n",
              "    }\n",
              "\n",
              "    .dataframe thead th {\n",
              "        text-align: right;\n",
              "    }\n",
              "</style>\n",
              "<table border=\"1\" class=\"dataframe\">\n",
              "  <thead>\n",
              "    <tr style=\"text-align: right;\">\n",
              "      <th></th>\n",
              "      <th>kalimat_id</th>\n",
              "      <th>kata</th>\n",
              "      <th>sense</th>\n",
              "      <th>kalimat</th>\n",
              "    </tr>\n",
              "  </thead>\n",
              "  <tbody>\n",
              "    <tr>\n",
              "      <th>0</th>\n",
              "      <td>1000527</td>\n",
              "      <td>mengandung</td>\n",
              "      <td>2301</td>\n",
              "      <td>cara anatomi hidung adalah tonjol pada vertebr...</td>\n",
              "    </tr>\n",
              "    <tr>\n",
              "      <th>1</th>\n",
              "      <td>1000651</td>\n",
              "      <td>mengandung</td>\n",
              "      <td>2301</td>\n",
              "      <td>mandi air yang kandung belerang untuk obat sak...</td>\n",
              "    </tr>\n",
              "    <tr>\n",
              "      <th>2</th>\n",
              "      <td>1000770</td>\n",
              "      <td>mengandung</td>\n",
              "      <td>2301</td>\n",
              "      <td>dengan ikat klathrin membrane sel bentuk vesik...</td>\n",
              "    </tr>\n",
              "    <tr>\n",
              "      <th>3</th>\n",
              "      <td>1001199</td>\n",
              "      <td>mengejar</td>\n",
              "      <td>2802</td>\n",
              "      <td>dalam tapak karier di gedung parlemen totok ti...</td>\n",
              "    </tr>\n",
              "    <tr>\n",
              "      <th>4</th>\n",
              "      <td>1001330</td>\n",
              "      <td>mengejar</td>\n",
              "      <td>2802</td>\n",
              "      <td>ini juga beri emc alam dan wawas masa depan un...</td>\n",
              "    </tr>\n",
              "  </tbody>\n",
              "</table>\n",
              "</div>"
            ],
            "text/plain": [
              "   kalimat_id  ...                                            kalimat\n",
              "0     1000527  ...  cara anatomi hidung adalah tonjol pada vertebr...\n",
              "1     1000651  ...  mandi air yang kandung belerang untuk obat sak...\n",
              "2     1000770  ...  dengan ikat klathrin membrane sel bentuk vesik...\n",
              "3     1001199  ...  dalam tapak karier di gedung parlemen totok ti...\n",
              "4     1001330  ...  ini juga beri emc alam dan wawas masa depan un...\n",
              "\n",
              "[5 rows x 4 columns]"
            ]
          },
          "metadata": {
            "tags": []
          },
          "execution_count": 4
        }
      ]
    },
    {
      "cell_type": "markdown",
      "metadata": {
        "id": "ps-PbMVTnlAy",
        "colab_type": "text"
      },
      "source": [
        "# Remove Stop Words"
      ]
    },
    {
      "cell_type": "code",
      "metadata": {
        "id": "QBv4QSt0iWfc",
        "colab_type": "code",
        "outputId": "4f39ea31-1be2-4b15-fa49-ab82e9721184",
        "colab": {
          "base_uri": "https://localhost:8080/",
          "height": 203
        }
      },
      "source": [
        "from Sastrawi.StopWordRemover.StopWordRemoverFactory import StopWordRemoverFactory\n",
        " \n",
        "factory = StopWordRemoverFactory()\n",
        "stopword = factory.create_stop_word_remover()\n",
        " \n",
        "file[\"kalimat\"] = file[\"kalimat\"].apply(\n",
        "    lambda kalimat: stopword.remove(kalimat)\n",
        ")\n",
        "\n",
        "file.head()"
      ],
      "execution_count": 0,
      "outputs": [
        {
          "output_type": "execute_result",
          "data": {
            "text/html": [
              "<div>\n",
              "<style scoped>\n",
              "    .dataframe tbody tr th:only-of-type {\n",
              "        vertical-align: middle;\n",
              "    }\n",
              "\n",
              "    .dataframe tbody tr th {\n",
              "        vertical-align: top;\n",
              "    }\n",
              "\n",
              "    .dataframe thead th {\n",
              "        text-align: right;\n",
              "    }\n",
              "</style>\n",
              "<table border=\"1\" class=\"dataframe\">\n",
              "  <thead>\n",
              "    <tr style=\"text-align: right;\">\n",
              "      <th></th>\n",
              "      <th>kalimat_id</th>\n",
              "      <th>kata</th>\n",
              "      <th>sense</th>\n",
              "      <th>kalimat</th>\n",
              "    </tr>\n",
              "  </thead>\n",
              "  <tbody>\n",
              "    <tr>\n",
              "      <th>0</th>\n",
              "      <td>1000527</td>\n",
              "      <td>mengandung</td>\n",
              "      <td>2301</td>\n",
              "      <td>cara anatomi hidung tonjol vertebrata kandung ...</td>\n",
              "    </tr>\n",
              "    <tr>\n",
              "      <th>1</th>\n",
              "      <td>1000651</td>\n",
              "      <td>mengandung</td>\n",
              "      <td>2301</td>\n",
              "      <td>mandi air kandung belerang obat sakit kulit</td>\n",
              "    </tr>\n",
              "    <tr>\n",
              "      <th>2</th>\n",
              "      <td>1000770</td>\n",
              "      <td>mengandung</td>\n",
              "      <td>2301</td>\n",
              "      <td>ikat klathrin membrane sel bentuk vesikel kand...</td>\n",
              "    </tr>\n",
              "    <tr>\n",
              "      <th>3</th>\n",
              "      <td>1001199</td>\n",
              "      <td>mengejar</td>\n",
              "      <td>2802</td>\n",
              "      <td>tapak karier gedung parlemen totok milik ambis...</td>\n",
              "    </tr>\n",
              "    <tr>\n",
              "      <th>4</th>\n",
              "      <td>1001330</td>\n",
              "      <td>mengejar</td>\n",
              "      <td>2802</td>\n",
              "      <td>juga beri emc alam wawas masa depan kejar tuju...</td>\n",
              "    </tr>\n",
              "  </tbody>\n",
              "</table>\n",
              "</div>"
            ],
            "text/plain": [
              "   kalimat_id  ...                                            kalimat\n",
              "0     1000527  ...  cara anatomi hidung tonjol vertebrata kandung ...\n",
              "1     1000651  ...        mandi air kandung belerang obat sakit kulit\n",
              "2     1000770  ...  ikat klathrin membrane sel bentuk vesikel kand...\n",
              "3     1001199  ...  tapak karier gedung parlemen totok milik ambis...\n",
              "4     1001330  ...  juga beri emc alam wawas masa depan kejar tuju...\n",
              "\n",
              "[5 rows x 4 columns]"
            ]
          },
          "metadata": {
            "tags": []
          },
          "execution_count": 5
        }
      ]
    },
    {
      "cell_type": "markdown",
      "metadata": {
        "id": "hF2RjdfsnsBl",
        "colab_type": "text"
      },
      "source": [
        "# Remove Punctuation"
      ]
    },
    {
      "cell_type": "code",
      "metadata": {
        "id": "1cxf3Lj5l6bz",
        "colab_type": "code",
        "outputId": "91b048b4-db85-4602-9472-3d6565ebea45",
        "colab": {
          "base_uri": "https://localhost:8080/",
          "height": 203
        }
      },
      "source": [
        "import string\n",
        "\n",
        "for p in string.punctuation:\n",
        "  file[\"kalimat\"] = file[\"kalimat\"].str.replace(p, '')\n",
        "  \n",
        "file.head()"
      ],
      "execution_count": 0,
      "outputs": [
        {
          "output_type": "execute_result",
          "data": {
            "text/html": [
              "<div>\n",
              "<style scoped>\n",
              "    .dataframe tbody tr th:only-of-type {\n",
              "        vertical-align: middle;\n",
              "    }\n",
              "\n",
              "    .dataframe tbody tr th {\n",
              "        vertical-align: top;\n",
              "    }\n",
              "\n",
              "    .dataframe thead th {\n",
              "        text-align: right;\n",
              "    }\n",
              "</style>\n",
              "<table border=\"1\" class=\"dataframe\">\n",
              "  <thead>\n",
              "    <tr style=\"text-align: right;\">\n",
              "      <th></th>\n",
              "      <th>kalimat_id</th>\n",
              "      <th>kata</th>\n",
              "      <th>sense</th>\n",
              "      <th>kalimat</th>\n",
              "    </tr>\n",
              "  </thead>\n",
              "  <tbody>\n",
              "    <tr>\n",
              "      <th>0</th>\n",
              "      <td>1000527</td>\n",
              "      <td>mengandung</td>\n",
              "      <td>2301</td>\n",
              "      <td>cara anatomi hidung tonjol vertebrata kandung ...</td>\n",
              "    </tr>\n",
              "    <tr>\n",
              "      <th>1</th>\n",
              "      <td>1000651</td>\n",
              "      <td>mengandung</td>\n",
              "      <td>2301</td>\n",
              "      <td>mandi air kandung belerang obat sakit kulit</td>\n",
              "    </tr>\n",
              "    <tr>\n",
              "      <th>2</th>\n",
              "      <td>1000770</td>\n",
              "      <td>mengandung</td>\n",
              "      <td>2301</td>\n",
              "      <td>ikat klathrin membrane sel bentuk vesikel kand...</td>\n",
              "    </tr>\n",
              "    <tr>\n",
              "      <th>3</th>\n",
              "      <td>1001199</td>\n",
              "      <td>mengejar</td>\n",
              "      <td>2802</td>\n",
              "      <td>tapak karier gedung parlemen totok milik ambis...</td>\n",
              "    </tr>\n",
              "    <tr>\n",
              "      <th>4</th>\n",
              "      <td>1001330</td>\n",
              "      <td>mengejar</td>\n",
              "      <td>2802</td>\n",
              "      <td>juga beri emc alam wawas masa depan kejar tuju...</td>\n",
              "    </tr>\n",
              "  </tbody>\n",
              "</table>\n",
              "</div>"
            ],
            "text/plain": [
              "   kalimat_id  ...                                            kalimat\n",
              "0     1000527  ...  cara anatomi hidung tonjol vertebrata kandung ...\n",
              "1     1000651  ...        mandi air kandung belerang obat sakit kulit\n",
              "2     1000770  ...  ikat klathrin membrane sel bentuk vesikel kand...\n",
              "3     1001199  ...  tapak karier gedung parlemen totok milik ambis...\n",
              "4     1001330  ...  juga beri emc alam wawas masa depan kejar tuju...\n",
              "\n",
              "[5 rows x 4 columns]"
            ]
          },
          "metadata": {
            "tags": []
          },
          "execution_count": 6
        }
      ]
    }
  ]
}